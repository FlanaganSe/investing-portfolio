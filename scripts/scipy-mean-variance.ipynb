{
 "cells": [
  {
   "cell_type": "code",
   "execution_count": 89,
   "id": "01c022af-1fbc-48dc-8f00-9e1814790872",
   "metadata": {},
   "outputs": [],
   "source": [
    "import numpy as np\n",
    "from scipy.optimize import minimize, Bounds, LinearConstraint"
   ]
  },
  {
   "cell_type": "code",
   "execution_count": 91,
   "id": "77eb1e13-1ab6-45d7-b889-7eeb6db59f31",
   "metadata": {},
   "outputs": [
    {
     "name": "stdout",
     "output_type": "stream",
     "text": [
      "asset weights:  [-0.04166665  0.26041666  0.26041666  0.26041666  0.26041666]\n"
     ]
    }
   ],
   "source": [
    "# Asset returns\n",
    "returnsArray = np.array([\n",
    "    0.005,\n",
    "    0.05,\n",
    "    0.05,\n",
    "    0.05,\n",
    "    0.05,\n",
    "])\n",
    "\n",
    "# Asset volatility\n",
    "volArray = np.array([\n",
    "    .0,     # cash: 0% volatility,\n",
    "    .12,\n",
    "    .12,\n",
    "    .12,\n",
    "    .12,\n",
    "])\n",
    "\n",
    "# Asset correlations\n",
    "asset1_asset2 = 1\n",
    "asset1_asset3 = 1\n",
    "asset1_asset4 = 1\n",
    "asset2_asset3 = 1\n",
    "asset2_asset4 = 1\n",
    "asset3_asset4 = 1\n",
    "corrArray = np.array([\n",
    "    [1,             0,             0,             0,             0],\n",
    "    [0,             1, asset1_asset2, asset1_asset3, asset1_asset4],\n",
    "    [0, asset1_asset2,             1, asset2_asset3, asset2_asset4],\n",
    "    [0, asset1_asset3, asset2_asset3,             1, asset3_asset4],\n",
    "    [0, asset1_asset4, asset2_asset4, asset3_asset4,             1],\n",
    "])\n",
    "\n",
    "# Gamma - Risk coefficient. 1.0 = High risk (Kelly maximizing); 4.0+ = Low risk\n",
    "gamma = 3.0\n",
    "\n",
    "\n",
    "# Asset upper / lower bounds\n",
    "cashBounds = (-1, 2)\n",
    "asset2Bounds = (0, np.inf)\n",
    "asset3Bounds = (0, np.inf)\n",
    "asset4Bounds = (0, np.inf)\n",
    "asset5Bounds = (0, np.inf)\n",
    "\n",
    "assetBounds = [cashBounds] + [asset2Bounds] + [asset3Bounds] + [asset4Bounds] + [asset5Bounds]\n",
    "\n",
    "def mean_and_std(asset_weights):\n",
    "    r = np.dot(asset_weights, returnsArray)\n",
    "    std = asset_weights * volArray\n",
    "    std = std.reshape((1, len(std)))\n",
    "    var = np.matmul(np.matmul(std, corrArray), std.transpose())\n",
    "    return r, var[0][0]**.5\n",
    "\n",
    "\n",
    "def utility(asset_weights):\n",
    "    mean, std = mean_and_std(asset_weights)\n",
    "    return mean - .5 * gamma * std**2\n",
    "\n",
    "\n",
    "solution = scipy.optimize.minimize(\n",
    "    lambda x: -utility(x),\n",
    "    x0=np.full_like(returnsArray, 0.25),\n",
    "    bounds=assetBounds,\n",
    "    constraints=[{'type': 'eq', 'fun': lambda x: x.sum() - 1}, ],\n",
    "    method='SLSQP'\n",
    ")\n",
    "\n",
    "print(\"asset weights: \", solution.x)"
   ]
  },
  {
   "cell_type": "code",
   "execution_count": 88,
   "id": "f7abf36c-93e6-4938-9d1a-55035c42ffc3",
   "metadata": {},
   "outputs": [
    {
     "name": "stdout",
     "output_type": "stream",
     "text": [
      "-0.042\n",
      "0.26\n",
      "0.26\n",
      "0.26\n",
      "0.26\n"
     ]
    }
   ],
   "source": [
    "i = range(5)\n",
    "\n",
    "for n in i:\n",
    "    print(round(solution.x[n], 3))"
   ]
  },
  {
   "cell_type": "code",
   "execution_count": null,
   "id": "d9c0d900-88c9-420e-9533-70a3c777a18b",
   "metadata": {},
   "outputs": [],
   "source": []
  }
 ],
 "metadata": {
  "kernelspec": {
   "display_name": "Python 3",
   "language": "python",
   "name": "python3"
  },
  "language_info": {
   "codemirror_mode": {
    "name": "ipython",
    "version": 3
   },
   "file_extension": ".py",
   "mimetype": "text/x-python",
   "name": "python",
   "nbconvert_exporter": "python",
   "pygments_lexer": "ipython3",
   "version": "3.9.5"
  }
 },
 "nbformat": 4,
 "nbformat_minor": 5
}
